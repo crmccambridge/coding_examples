{
 "cells": [
  {
   "cell_type": "code",
   "execution_count": null,
   "source": [
    "def rf_param_function(trial):\n",
    "    params = {\n",
    "        \"n_estimators\":trial.suggest_int(\"n_estiamtors\",100,500,step=100)\n",
    "    }\n",
    "    return params\n",
    "\n",
    "def outer_objective(clf,param_function):\n",
    "    def inner_objective(trial):\n",
    "        params = param_function(trial)\n",
    "        model = clf.set_params(**params).fit(x_train,y_train)\n",
    "\n",
    "        model.predict(x_val)\n",
    "\n",
    "        f1 = clf.predict(x_val)\n",
    "\n",
    "        return f1\n",
    "    return inner_objective\n",
    "\n",
    "study = optuna.create_study(direction=\"maximize\")\n",
    "study.optimize(outer_objective(RandomForestClassifier(),rf_param_function))"
   ],
   "outputs": [],
   "metadata": {}
  }
 ],
 "metadata": {
  "orig_nbformat": 4,
  "language_info": {
   "name": "python"
  }
 },
 "nbformat": 4,
 "nbformat_minor": 2
}